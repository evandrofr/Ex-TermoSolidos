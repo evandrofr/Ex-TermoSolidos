{
 "cells": [
  {
   "cell_type": "code",
   "execution_count": 1,
   "metadata": {},
   "outputs": [],
   "source": [
    "import matplotlib.pyplot as plt\n",
    "import numpy as np\n",
    "import math\n",
    "import seaborn as sns"
   ]
  },
  {
   "cell_type": "markdown",
   "metadata": {},
   "source": [
    "<img src=\"equacao.png\">"
   ]
  },
  {
   "cell_type": "code",
   "execution_count": 2,
   "metadata": {},
   "outputs": [
    {
     "data": {
      "text/plain": [
       "(6.428571428571429, 4.285714285714286)"
      ]
     },
     "execution_count": 2,
     "metadata": {},
     "output_type": "execute_result"
    }
   ],
   "source": [
    "K = 1 # m²/s\n",
    "deltat = 0.05 # s\n",
    "deltax = 0.5 # m  \n",
    "deltay = 0.5 # m\n",
    "Lx = 30\n",
    "Ly = 20\n",
    "Tdes = 3\n",
    "Ttotal = 10*Tdes\n",
    "num_grup = 9\n",
    "a = num_grup/1.4\n",
    "b = 60/(num_grup + 5)\n",
    "Q = 100\n",
    "alpha = 1\n",
    "u = alpha\n",
    "a,b"
   ]
  },
  {
   "cell_type": "code",
   "execution_count": 3,
   "metadata": {},
   "outputs": [
    {
     "name": "stdout",
     "output_type": "stream",
     "text": [
      "61 41\n"
     ]
    }
   ],
   "source": [
    "x = np.linspace(0, Lx, int(Lx/deltax)+1)\n",
    "y = np.linspace(0, Ly, int(Ly/deltay)+1)\n",
    "t = np.linspace(0, Ttotal, int(Ttotal/deltat)+1)\n",
    "print(len(x), len(y))"
   ]
  },
  {
   "cell_type": "code",
   "execution_count": 4,
   "metadata": {},
   "outputs": [],
   "source": [
    "listatempo = []\n",
    "for _ in range(len(t)):\n",
    "    matrix = np.zeros((len(y),len(x)))\n",
    "    listatempo.append(matrix)"
   ]
  },
  {
   "cell_type": "code",
   "execution_count": 5,
   "metadata": {},
   "outputs": [
    {
     "data": {
      "text/plain": [
       "(60, 40, 8, 12, 60)"
      ]
     },
     "execution_count": 5,
     "metadata": {},
     "output_type": "execute_result"
    }
   ],
   "source": [
    "xdesp = int(b/deltax)\n",
    "ydesp = int(a/deltay)\n",
    "vx = int(Lx/deltax)\n",
    "vy = int(Ly/deltay)\n",
    "Tdesp = int(Tdes/deltat)\n",
    "vx,vy,xdesp,ydesp,Tdesp"
   ]
  },
  {
   "cell_type": "code",
   "execution_count": 6,
   "metadata": {
    "scrolled": true
   },
   "outputs": [
    {
     "name": "stdout",
     "output_type": "stream",
     "text": [
      "acabou\n",
      "Wall time: 52.5 s\n"
     ]
    }
   ],
   "source": [
    "%%time\n",
    "copia = listatempo.copy()\n",
    "for m,matrix in enumerate(copia):\n",
    "    for i,linha in enumerate(matrix):\n",
    "        for j,elem in enumerate(linha):\n",
    "            v = alpha*math.sin(math.pi*deltax*j/5)\n",
    "            if(m != len(t)-1):\n",
    "                \n",
    "                if(i != 0 and i < vy and j < vx and j != 0):\n",
    "                    \n",
    "                    if(i == xdesp and j == ydesp and m <= Tdesp):\n",
    "                        t5 = Q/(deltax*deltay)\n",
    "                    else:\n",
    "                        t5 = 0\n",
    "                    \n",
    "                    t1 = u*(copia[m][i][j+1] - copia[m][i][j-1])/(2*deltax)\n",
    "                    t2 = v*(copia[m][i+1][j] - copia[m][i-1][j])/(2*deltay)\n",
    "                    \n",
    "                    t3 = K*(copia[m][i][j+1] - 2*copia[m][i][j] + copia[m][i][j-1])/(deltax**2)\n",
    "                    t4 = K*(copia[m][i+1][j] - 2*copia[m][i][j] + copia[m][i-1][j])/(deltay**2)\n",
    "                    \n",
    "                    copia[m+1][i][j] = copia[m][i][j] - deltat*(t1 + t2 - t3 - t4 - t5)\n",
    "    for i,linha in enumerate(matrix):\n",
    "        for j,elem in enumerate(linha):\n",
    "            v = alpha*math.sin(math.pi*deltax*j/5)\n",
    "            if(m != len(t)-1):\n",
    "                if(j == 0):\n",
    "                    copia[m+1][i][0] = copia[m][i][1]\n",
    "                elif(i == 0):\n",
    "                    copia[m+1][0][j] = copia[m][1][j]\n",
    "                elif(j == vx):\n",
    "                    copia[m+1][i][vx] = copia[m][i][vx - 1]\n",
    "                elif(i == vy):\n",
    "                    copia[m+1][vy][j] = copia[m][vy - 1][j]\n",
    "print(\"acabou\")\n",
    "\n",
    "# for matrix in copia[:20]:\n",
    "#     print(matrix)\n"
   ]
  },
  {
   "cell_type": "code",
   "execution_count": 7,
   "metadata": {
    "scrolled": true
   },
   "outputs": [
    {
     "data": {
      "image/png": "[encoded data removed]",
      "text/plain": [
       "<Figure size 432x288 with 2 Axes>"
      ]
     },
     "metadata": {
      "needs_background": "light"
     },
     "output_type": "display_data"
    }
   ],
   "source": [
    "heatmap = sns.heatmap(copia[-1], annot = False, linewidths=0,cmap='coolwarm')\n",
    "plt.title(\"K = {}\".format(K))\n",
    "plt.gca().invert_yaxis()"
   ]
  },
  {
   "cell_type": "code",
   "execution_count": 12,
   "metadata": {},
   "outputs": [
    {
     "data": {
      "text/plain": [
       "1.0105454468384423"
      ]
     },
     "execution_count": 12,
     "metadata": {},
     "output_type": "execute_result"
    }
   ],
   "source": [
    "copia[-1][0][60]"
   ]
  },
  {
   "cell_type": "code",
   "execution_count": 8,
   "metadata": {},
   "outputs": [
    {
     "data": {
      "image/png": "[encoded data removed]",
      "text/plain": [
       "<Figure size 432x288 with 2 Axes>"
      ]
     },
     "metadata": {
      "needs_background": "light"
     },
     "output_type": "display_data"
    }
   ],
   "source": [
    "heatmap = sns.heatmap(copia[32], annot = False, linewidths=0,cmap='coolwarm')\n",
    "plt.title(\"Instante t=1.6\")\n",
    "plt.gca().invert_yaxis()"
   ]
  },
  {
   "cell_type": "code",
   "execution_count": 9,
   "metadata": {
    "scrolled": true
   },
   "outputs": [
    {
     "name": "stdout",
     "output_type": "stream",
     "text": [
      "0.0730875488247078\n"
     ]
    }
   ],
   "source": [
    "print(copia[-1][20][20])"
   ]
  },
  {
   "cell_type": "code",
   "execution_count": 10,
   "metadata": {},
   "outputs": [
    {
     "name": "stdout",
     "output_type": "stream",
     "text": [
      "up\n",
      "9\n",
      "oi\n"
     ]
    }
   ],
   "source": [
    "for m,matrix in enumerate(copia):\n",
    "    left=matrix[:,0]\n",
    "    right=matrix[:,-1]\n",
    "    up=matrix[0,:]\n",
    "    down=matrix[-1,:]\n",
    "    if(m==32):\n",
    "        print(down)\n",
    "#     print(max(down),len(down))\n",
    "    if (max(left)>0):\n",
    "        print(\"left\")\n",
    "        print(m)\n",
    "        break \n",
    "    elif (max(right)>0):\n",
    "        print(\"right\")\n",
    "        print(m)\n",
    "        break \n",
    "    elif (max(up)>0):\n",
    "        print(\"up\")\n",
    "        print(m)\n",
    "        break \n",
    "    elif (max(down)>0):\n",
    "        print(\"down\")\n",
    "        print(m)\n",
    "        break \n",
    "print(\"oi\")"
   ]
  },
  {
   "cell_type": "code",
   "execution_count": 11,
   "metadata": {},
   "outputs": [
    {
     "data": {
      "text/plain": [
       "1.6"
      ]
     },
     "execution_count": 11,
     "metadata": {},
     "output_type": "execute_result"
    }
   ],
   "source": [
    "32*deltat"
   ]
  },
  {
   "cell_type": "code",
   "execution_count": null,
   "metadata": {},
   "outputs": [],
   "source": []
  }
 ],
 "metadata": {
  "kernelspec": {
   "display_name": "Python 3",
   "language": "python",
   "name": "python3"
  },
  "language_info": {
   "codemirror_mode": {
    "name": "ipython",
    "version": 3
   },
   "file_extension": ".py",
   "mimetype": "text/x-python",
   "name": "python",
   "nbconvert_exporter": "python",
   "pygments_lexer": "ipython3",
   "version": "3.8.1"
  }
 },
 "nbformat": 4,
 "nbformat_minor": 2
}
