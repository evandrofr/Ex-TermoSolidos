{
 "cells": [
  {
   "cell_type": "code",
   "execution_count": 50,
   "metadata": {},
   "outputs": [],
   "source": [
    "import matplotlib.pyplot as plt\n",
    "import numpy as np\n",
    "import math\n",
    "import seaborn as sns"
   ]
  },
  {
   "cell_type": "code",
   "execution_count": 51,
   "metadata": {},
   "outputs": [],
   "source": [
    "k = 0.23e3\n",
    "cp = 897 \n",
    "ro = 2.7e3\n",
    "alfa = k/(ro*cp)\n",
    "deltat = 1e-3 # s\n",
    "deltax = 0.1 # m\n",
    "deltay = 0.1 # m\n",
    "Lx = 0.4 # m\n",
    "Ly = 0.4 # m\n",
    "tmax = 10 # s\n",
    "f0 = alfa*deltat/(deltax**2)"
   ]
  },
  {
   "cell_type": "code",
   "execution_count": 52,
   "metadata": {},
   "outputs": [
    {
     "name": "stdout",
     "output_type": "stream",
     "text": [
      "[0.000e+00 1.000e-03 2.000e-03 ... 9.998e+00 9.999e+00 1.000e+01]\n"
     ]
    }
   ],
   "source": [
    "x = np.linspace(0, Lx, int(Lx/deltax)+1)\n",
    "y = np.linspace(0, Ly, int(Ly/deltay)+1)\n",
    "t = np.linspace(0, tmax, int(tmax/deltat)+1)\n",
    "print(t)"
   ]
  },
  {
   "cell_type": "code",
   "execution_count": 53,
   "metadata": {},
   "outputs": [],
   "source": [
    "listatempo = []\n",
    "for _ in range(len(t)):\n",
    "    matrix = np.zeros((len(y),len(x)))\n",
    "    listatempo.append(matrix)"
   ]
  },
  {
   "cell_type": "code",
   "execution_count": 54,
   "metadata": {},
   "outputs": [],
   "source": [
    "for m,matrix in enumerate(listatempo):\n",
    "    for i,linha in enumerate(matrix):\n",
    "        for j,elem in enumerate(linha):\n",
    "            if(i == 0):\n",
    "                listatempo[m][i][j] = 150\n",
    "            if(j==len(x)-1):\n",
    "                listatempo[m][i][j] = 50\n"
   ]
  },
  {
   "cell_type": "code",
   "execution_count": 66,
   "metadata": {
    "scrolled": true
   },
   "outputs": [
    {
     "name": "stderr",
     "output_type": "stream",
     "text": [
      "<ipython-input-66-aa5c1765b854>:20: RuntimeWarning: divide by zero encountered in true_divide\n",
      "  list_errors=abs((matrix-ant)/matrix)\n",
      "<ipython-input-66-aa5c1765b854>:20: RuntimeWarning: invalid value encountered in true_divide\n",
      "  list_errors=abs((matrix-ant)/matrix)\n"
     ]
    },
    {
     "name": "stdout",
     "output_type": "stream",
     "text": [
      "acabou\n",
      "[[0.00000000e+00 0.00000000e+00 0.00000000e+00 0.00000000e+00\n",
      "  0.00000000e+00]\n",
      " [9.10894779e-05 9.11595154e-05 9.21408098e-05 8.69586414e-05\n",
      "  0.00000000e+00]\n",
      " [1.87923171e-04 1.88812207e-04 1.87360973e-04 1.01147536e-04\n",
      "  0.00000000e+00]\n",
      " [2.87243057e-04 2.84446427e-04 1.91450484e-04 8.77563059e-05\n",
      "  0.00000000e+00]\n",
      " [0.00000000e+00 0.00000000e+00 0.00000000e+00 0.00000000e+00\n",
      "  0.00000000e+00]]\n",
      "0.0002873953227680998\n"
     ]
    }
   ],
   "source": [
    "vx = int(Lx/deltax)\n",
    "vy = int(Ly/deltay)\n",
    "\n",
    "over = False\n",
    "copia = listatempo.copy()\n",
    "for m,matrix in enumerate(copia):\n",
    "    \n",
    "    for i,linha in enumerate(matrix):\n",
    "        for j,elem in enumerate(linha):\n",
    "            if(i != 0 and i != vx and j != vy and m != len(t)-1):\n",
    "                if(j != 0) :\n",
    "                    Tx = copia[m][i+1][j] - 2*copia[m][i][j] + copia[m][i-1][j]\n",
    "                    Ty = copia[m][i][j+1] - 2*copia[m][i][j] + copia[m][i][j-1]\n",
    "                    copia[m+1][i][j] = alfa*deltat*((Tx/(deltax**2))+(Ty/(deltay**2))) + copia[m][i][j]\n",
    "                elif(j==0):\n",
    "                    copia[m+1][i][j]=f0*(2*copia[m][i][j+1]+copia[m][i+1][j]+copia[m][i-1][j])+(1-4*f0)*copia[m][i][j]\n",
    "        \n",
    "    if (m>=0):\n",
    "        ant=copia[m-1]\n",
    "        list_errors=abs((matrix-ant)/matrix)\n",
    "        \n",
    "        if np.max(list_errors)<erro:\n",
    "            break\n",
    "\n",
    "erro = np.max(abs((copia[-1]-copia[-2])/(copia[-1]+1e-10 )))\n",
    "\n",
    "print(\"acabou\")\n",
    "\n",
    "print(erro)\n",
    "# for matrix in copia:\n",
    "#     print(matrix)\n"
   ]
  },
  {
   "cell_type": "code",
   "execution_count": 48,
   "metadata": {},
   "outputs": [
    {
     "data": {
      "image/png": "[encoded data removed]",
      "text/plain": [
       "<Figure size 432x288 with 2 Axes>"
      ]
     },
     "metadata": {
      "needs_background": "light"
     },
     "output_type": "display_data"
    }
   ],
   "source": [
    "heatmap = sns.heatmap(copia[-1], annot = True, linewidths=.1,cmap='coolwarm')"
   ]
  },
  {
   "cell_type": "code",
   "execution_count": 49,
   "metadata": {
    "scrolled": true
   },
   "outputs": [],
   "source": [
    "# listaplot = []\n",
    "# listaplot.append(copia[0])\n",
    "# for i, linha in enumerate(copia):\n",
    "#     if(i%10==0):\n",
    "#         listaplot.append(linha)\n",
    "        \n",
    "        \n",
    "# for linha in listaplot:\n",
    "#     plt.plot(x,linha, '-')\n",
    "# plt.grid()\n",
    "# plt.show()"
   ]
  },
  {
   "cell_type": "code",
   "execution_count": 18,
   "metadata": {},
   "outputs": [
    {
     "data": {
      "text/plain": [
       "84.67"
      ]
     },
     "execution_count": 18,
     "metadata": {},
     "output_type": "execute_result"
    }
   ],
   "source": [
    "round(copia[10][1][1], 2)"
   ]
  },
  {
   "cell_type": "code",
   "execution_count": 19,
   "metadata": {},
   "outputs": [
    {
     "data": {
      "text/plain": [
       "21.56"
      ]
     },
     "execution_count": 19,
     "metadata": {},
     "output_type": "execute_result"
    }
   ],
   "source": [
    "round(copia[1][1][1], 2)"
   ]
  },
  {
   "cell_type": "code",
   "execution_count": null,
   "metadata": {},
   "outputs": [],
   "source": []
  },
  {
   "cell_type": "code",
   "execution_count": null,
   "metadata": {},
   "outputs": [],
   "source": []
  },
  {
   "cell_type": "code",
   "execution_count": null,
   "metadata": {},
   "outputs": [],
   "source": []
  }
 ],
 "metadata": {
  "kernelspec": {
   "display_name": "Python 3",
   "language": "python",
   "name": "python3"
  },
  "language_info": {
   "codemirror_mode": {
    "name": "ipython",
    "version": 3
   },
   "file_extension": ".py",
   "mimetype": "text/x-python",
   "name": "python",
   "nbconvert_exporter": "python",
   "pygments_lexer": "ipython3",
   "version": "3.8.1"
  }
 },
 "nbformat": 4,
 "nbformat_minor": 2
}
