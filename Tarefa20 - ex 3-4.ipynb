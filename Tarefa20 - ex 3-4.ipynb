{
 "cells": [
  {
   "cell_type": "code",
   "execution_count": 9,
   "metadata": {},
   "outputs": [],
   "source": [
    "import matplotlib.pyplot as plt\n",
    "import numpy as np\n",
    "import math\n",
    "import seaborn as sns"
   ]
  },
  {
   "cell_type": "code",
   "execution_count": 10,
   "metadata": {},
   "outputs": [],
   "source": [
    "k = 0.23e3\n",
    "cp = 897 \n",
    "ro = 2.7e3\n",
    "alfa = k/(ro*cp)\n",
    "deltat = 1e-3 # s\n",
    "deltax = 0.4/9 # m\n",
    "deltay = 0.4/9 # m\n",
    "Lx = 0.4 # m\n",
    "Ly = 0.4 # m\n",
    "tmax = 120 # s\n",
    "erro = 1e-8\n",
    "f0 = alfa*deltat/(deltax**2)"
   ]
  },
  {
   "cell_type": "code",
   "execution_count": 11,
   "metadata": {},
   "outputs": [
    {
     "name": "stdout",
     "output_type": "stream",
     "text": [
      "[0.00000e+00 1.00000e-03 2.00000e-03 ... 1.19998e+02 1.19999e+02\n",
      " 1.20000e+02]\n"
     ]
    }
   ],
   "source": [
    "x = np.linspace(0, Lx, int(Lx/deltax)+1)\n",
    "y = np.linspace(0, Ly, int(Ly/deltay)+1)\n",
    "t = np.linspace(0, tmax, int(tmax/deltat)+1)\n",
    "print(t)"
   ]
  },
  {
   "cell_type": "code",
   "execution_count": 12,
   "metadata": {},
   "outputs": [],
   "source": [
    "listatempo = []\n",
    "for _ in range(len(t)):\n",
    "    matrix = np.zeros((len(y),len(x)))\n",
    "    listatempo.append(matrix)"
   ]
  },
  {
   "cell_type": "code",
   "execution_count": 13,
   "metadata": {},
   "outputs": [],
   "source": [
    "for m,matrix in enumerate(listatempo):\n",
    "    for i,linha in enumerate(matrix):\n",
    "        for j,elem in enumerate(linha):\n",
    "            if(i == 0):\n",
    "                listatempo[m][i][j] = 150\n",
    "            elif(j==len(x)-1):\n",
    "                listatempo[m][i][j] = 50\n"
   ]
  },
  {
   "cell_type": "code",
   "execution_count": null,
   "metadata": {
    "scrolled": true
   },
   "outputs": [],
   "source": [
    "vx = int(Lx/deltax)\n",
    "vy = int(Ly/deltay)\n",
    "\n",
    "over = False\n",
    "copia = listatempo.copy()\n",
    "for m,matrix in enumerate(copia):\n",
    "    \n",
    "    for i,linha in enumerate(matrix):\n",
    "        for j,elem in enumerate(linha):\n",
    "            if(i != 0 and i != vx and j != vy and m != len(t)-1):\n",
    "                if(j != 0) :\n",
    "                    Tx = copia[m][i+1][j] - 2*copia[m][i][j] + copia[m][i-1][j]\n",
    "                    Ty = copia[m][i][j+1] - 2*copia[m][i][j] + copia[m][i][j-1]\n",
    "                    copia[m+1][i][j] = alfa*deltat*((Tx/(deltax**2))+(Ty/(deltay**2))) + copia[m][i][j]\n",
    "                elif(j==0):\n",
    "                    copia[m+1][i][j]=f0*(2*copia[m][i][j+1]+copia[m][i+1][j]+copia[m][i-1][j])+(1-4*f0)*copia[m][i][j]\n",
    "        \n",
    "    if (m>0):\n",
    "        ant=copia[m-1]\n",
    "        list_errors=abs((matrix-ant)/(matrix+1e-10))\n",
    "        \n",
    "        if np.max(list_errors)<erro:\n",
    "            break\n",
    "    \n",
    "\n",
    "max_erro = np.max(abs((copia[-1]-copia[-2])/(copia[-1]+1e-11 )))\n",
    "\n",
    "print(\"acabou\")\n",
    "\n",
    "print(max_erro)\n",
    "# for matrix in copia:\n",
    "#     print(matrix)\n"
   ]
  },
  {
   "cell_type": "code",
   "execution_count": null,
   "metadata": {},
   "outputs": [],
   "source": [
    "heatmap = sns.heatmap(copia[int(10/deltat)], annot = True, linewidths=.05,cmap='coolwarm')"
   ]
  },
  {
   "cell_type": "code",
   "execution_count": null,
   "metadata": {},
   "outputs": [],
   "source": [
    "print(\"10s\")\n",
    "print(copia[int(10/deltat)][:,0])\n",
    "print(\"\\n10s\")\n",
    "print(copia[int(40/deltat)][:,0])\n",
    "print(\"\\n10s\")\n",
    "print(copia[int(120/deltat)][:,0])"
   ]
  },
  {
   "cell_type": "code",
   "execution_count": null,
   "metadata": {},
   "outputs": [],
   "source": []
  },
  {
   "cell_type": "code",
   "execution_count": null,
   "metadata": {},
   "outputs": [],
   "source": []
  }
 ],
 "metadata": {
  "kernelspec": {
   "display_name": "Python 3",
   "language": "python",
   "name": "python3"
  },
  "language_info": {
   "codemirror_mode": {
    "name": "ipython",
    "version": 3
   },
   "file_extension": ".py",
   "mimetype": "text/x-python",
   "name": "python",
   "nbconvert_exporter": "python",
   "pygments_lexer": "ipython3",
   "version": "3.6.5"
  }
 },
 "nbformat": 4,
 "nbformat_minor": 2
}
