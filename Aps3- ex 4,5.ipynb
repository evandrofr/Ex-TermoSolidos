{
 "cells": [
  {
   "cell_type": "code",
   "execution_count": 1,
   "metadata": {},
   "outputs": [],
   "source": [
    "import matplotlib.pyplot as plt\n",
    "import numpy as np\n",
    "import math\n",
    "import seaborn as sns"
   ]
  },
  {
   "cell_type": "code",
   "execution_count": 2,
   "metadata": {},
   "outputs": [],
   "source": [
    "k = 0.23e3\n",
    "cp = 897 \n",
    "ro = 2.7e3\n",
    "alfa = k/(ro*cp)\n",
    "deltat = 1e-3 # s\n",
    "deltax = 0.01 # m\n",
    "deltay = 0.01 # m\n",
    "Lx = 0.4 # m\n",
    "Ly = 0.4 # m\n",
    "tmax = 10 # s\n",
    "erro = 1e-8\n",
    "f0 = alfa*deltat/(deltax**2)"
   ]
  },
  {
   "cell_type": "code",
   "execution_count": 3,
   "metadata": {},
   "outputs": [
    {
     "name": "stdout",
     "output_type": "stream",
     "text": [
      "[0.000e+00 1.000e-03 2.000e-03 ... 9.998e+00 9.999e+00 1.000e+01]\n"
     ]
    }
   ],
   "source": [
    "x = np.linspace(0, Lx, int(Lx/deltax)+1)\n",
    "y = np.linspace(0, Ly, int(Ly/deltay)+1)\n",
    "t = np.linspace(0, tmax, int(tmax/deltat)+1)\n",
    "print(t)"
   ]
  },
  {
   "cell_type": "code",
   "execution_count": 4,
   "metadata": {},
   "outputs": [],
   "source": [
    "listatempo = []\n",
    "for _ in range(len(t)):\n",
    "    matrix = np.zeros((len(y),len(x)))\n",
    "    listatempo.append(matrix)"
   ]
  },
  {
   "cell_type": "code",
   "execution_count": 5,
   "metadata": {},
   "outputs": [],
   "source": [
    "for m,matrix in enumerate(listatempo):\n",
    "    for i,linha in enumerate(matrix):\n",
    "        for j,elem in enumerate(linha):\n",
    "            if(i == 0):\n",
    "                listatempo[m][i][j] = 100\n",
    "            elif(j==0):\n",
    "                listatempo[m][i][j] = 75\n",
    "            elif(j==len(x)-1):\n",
    "                listatempo[m][i][j] = 50\n"
   ]
  },
  {
   "cell_type": "code",
   "execution_count": 6,
   "metadata": {
    "scrolled": true
   },
   "outputs": [
    {
     "name": "stdout",
     "output_type": "stream",
     "text": [
      "acabou\n"
     ]
    }
   ],
   "source": [
    "vx = int(Lx/deltax)\n",
    "vy = int(Ly/deltay)\n",
    "\n",
    "over = False\n",
    "copia = listatempo.copy()\n",
    "for m,matrix in enumerate(copia):\n",
    "    \n",
    "    for i,linha in enumerate(matrix):\n",
    "        for j,elem in enumerate(linha):\n",
    "            if(i != 0 and i != vx and j != vy and m != len(t)-1):\n",
    "                if(j != 0) :\n",
    "                    Tx = copia[m][i+1][j] - 2*copia[m][i][j] + copia[m][i-1][j]\n",
    "                    Ty = copia[m][i][j+1] - 2*copia[m][i][j] + copia[m][i][j-1]\n",
    "                    copia[m+1][i][j] = alfa*deltat*((Tx/(deltax**2))+(Ty/(deltay**2))) + copia[m][i][j]\n",
    "    if (m>0):\n",
    "        ant=copia[m-1]\n",
    "        list_errors=abs((matrix-ant)/(matrix+1e-10))\n",
    "        \n",
    "        if (np.max(list_errors)<erro):\n",
    "            print(int(m/deltat))\n",
    "                                                         \n",
    "print(\"acabou\")"
   ]
  },
  {
   "cell_type": "code",
   "execution_count": 13,
   "metadata": {},
   "outputs": [
    {
     "data": {
      "image/png": "[encoded data removed]",
      "text/plain": [
       "<Figure size 432x288 with 2 Axes>"
      ]
     },
     "metadata": {
      "needs_background": "light"
     },
     "output_type": "display_data"
    }
   ],
   "source": [
    "heatmap = sns.heatmap(copia[-1], annot = False, linewidths=0,cmap='coolwarm')"
   ]
  },
  {
   "cell_type": "code",
   "execution_count": 8,
   "metadata": {},
   "outputs": [
    {
     "name": "stdout",
     "output_type": "stream",
     "text": [
      "maior erro: 0.000917628545183936\n"
     ]
    }
   ],
   "source": [
    "erro = np.max(abs((copia[-1]-copia[-2])/(copia[-1]+1e-10 )))\n",
    "print(\"maior erro:\",erro)"
   ]
  },
  {
   "cell_type": "code",
   "execution_count": 24,
   "metadata": {},
   "outputs": [
    {
     "name": "stdout",
     "output_type": "stream",
     "text": [
      "0.0021444366221311734\n"
     ]
    }
   ],
   "source": [
    "l=int(len(copia[-1])/2)\n",
    "print(copia[-1][l][l])"
   ]
  },
  {
   "cell_type": "code",
   "execution_count": null,
   "metadata": {},
   "outputs": [],
   "source": []
  },
  {
   "cell_type": "code",
   "execution_count": null,
   "metadata": {},
   "outputs": [],
   "source": []
  },
  {
   "cell_type": "code",
   "execution_count": null,
   "metadata": {},
   "outputs": [],
   "source": []
  },
  {
   "cell_type": "code",
   "execution_count": null,
   "metadata": {},
   "outputs": [],
   "source": []
  }
 ],
 "metadata": {
  "kernelspec": {
   "display_name": "Python 3",
   "language": "python",
   "name": "python3"
  },
  "language_info": {
   "codemirror_mode": {
    "name": "ipython",
    "version": 3
   },
   "file_extension": ".py",
   "mimetype": "text/x-python",
   "name": "python",
   "nbconvert_exporter": "python",
   "pygments_lexer": "ipython3",
   "version": "3.8.1"
  }
 },
 "nbformat": 4,
 "nbformat_minor": 2
}
